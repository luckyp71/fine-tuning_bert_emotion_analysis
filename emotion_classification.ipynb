{
 "cells": [
  {
   "cell_type": "markdown",
   "id": "97ad578e-4f80-4e46-9bb2-1e8d9536eefa",
   "metadata": {},
   "source": [
    "# Emotion Classification\n",
    "\n",
    "**Dataset**: \n",
    "- https://huggingface.co/datasets/dair-ai/emotion"
   ]
  },
  {
   "cell_type": "code",
   "execution_count": 19,
   "id": "0c91ebad-a817-4573-a8ae-af9abd32ecce",
   "metadata": {},
   "outputs": [],
   "source": [
    "import pandas as pd\n",
    "import plotly.graph_objects as go\n",
    "from plotly.subplots import make_subplots\n",
    "import plotly.io as pio\n",
    "from transformers import AutoTokenizer, AutoModelForSequenceClassification, AutoConfig, TrainingArguments, Trainer, pipeline\n",
    "from datasets import load_dataset, Dataset, DatasetDict, ClassLabel\n",
    "import torch\n",
    "import numpy as np\n",
    "from sklearn.metrics import classification_report, confusion_matrix\n",
    "from IPython.display import Image, display"
   ]
  },
  {
   "cell_type": "code",
   "execution_count": 20,
   "id": "6f926816-f8e8-4b95-8bf7-d337b603afa3",
   "metadata": {},
   "outputs": [],
   "source": [
    "pio.renderers.default=\"notebook\"\n",
    "\n",
    "model_checkpoint = \"bert-base-uncased\"\n",
    "\n",
    "device = torch.device('cuda' if torch.cuda.is_available() else 'cpu')"
   ]
  },
  {
   "cell_type": "code",
   "execution_count": 21,
   "id": "deb46335-337d-4feb-a32b-b6c92ee31537",
   "metadata": {},
   "outputs": [
    {
     "data": {
      "text/plain": [
       "device(type='cuda')"
      ]
     },
     "execution_count": 21,
     "metadata": {},
     "output_type": "execute_result"
    }
   ],
   "source": [
    "device"
   ]
  },
  {
   "cell_type": "markdown",
   "id": "ab31dae4-f714-4358-b559-8849b58b2c9b",
   "metadata": {},
   "source": [
    "### Data Preparation"
   ]
  },
  {
   "cell_type": "code",
   "execution_count": 22,
   "id": "b8bb9603-eb79-4da6-82f6-f4bbe733006e",
   "metadata": {},
   "outputs": [],
   "source": [
    "df = pd.read_parquet(\"hf://datasets/dair-ai/emotion/unsplit/train-00000-of-00001.parquet\")"
   ]
  },
  {
   "cell_type": "code",
   "execution_count": 23,
   "id": "6270373a-867f-4718-b936-b5a25b66bb3e",
   "metadata": {},
   "outputs": [
    {
     "name": "stdout",
     "output_type": "stream",
     "text": [
      "<class 'pandas.core.frame.DataFrame'>\n",
      "RangeIndex: 416809 entries, 0 to 416808\n",
      "Data columns (total 2 columns):\n",
      " #   Column  Non-Null Count   Dtype \n",
      "---  ------  --------------   ----- \n",
      " 0   text    416809 non-null  object\n",
      " 1   label   416809 non-null  int64 \n",
      "dtypes: int64(1), object(1)\n",
      "memory usage: 6.4+ MB\n"
     ]
    }
   ],
   "source": [
    "df.info()"
   ]
  },
  {
   "cell_type": "code",
   "execution_count": 24,
   "id": "50113d1e-3948-4f58-988f-505be88a6aab",
   "metadata": {},
   "outputs": [],
   "source": [
    "label_name_map = {0:\"sadness\",\n",
    "1:\"joy\",\n",
    "2:\"love\",\n",
    "3:\"anger\",\n",
    "4:\"fear\",\n",
    "5:\"surprise\"}\n",
    "\n",
    "df['label_name'] = df['label'].map(label_name_map)"
   ]
  },
  {
   "cell_type": "code",
   "execution_count": 25,
   "id": "792e16bd-6cb9-4dbe-a3e6-14d74ee1c0b7",
   "metadata": {},
   "outputs": [
    {
     "data": {
      "text/plain": [
       "label_name\n",
       "joy         0.338445\n",
       "sadness     0.290749\n",
       "anger       0.137514\n",
       "fear        0.114470\n",
       "love        0.082901\n",
       "surprise    0.035921\n",
       "Name: proportion, dtype: float64"
      ]
     },
     "execution_count": 25,
     "metadata": {},
     "output_type": "execute_result"
    }
   ],
   "source": [
    "df.label_name.value_counts(normalize=True).sort_values(ascending=False)"
   ]
  },
  {
   "cell_type": "code",
   "execution_count": 26,
   "id": "9798ec59-df47-4871-a74a-00a7868f2110",
   "metadata": {},
   "outputs": [
    {
     "data": {
      "text/html": [
       "<div>\n",
       "<style scoped>\n",
       "    .dataframe tbody tr th:only-of-type {\n",
       "        vertical-align: middle;\n",
       "    }\n",
       "\n",
       "    .dataframe tbody tr th {\n",
       "        vertical-align: top;\n",
       "    }\n",
       "\n",
       "    .dataframe thead th {\n",
       "        text-align: right;\n",
       "    }\n",
       "</style>\n",
       "<table border=\"1\" class=\"dataframe\">\n",
       "  <thead>\n",
       "    <tr style=\"text-align: right;\">\n",
       "      <th></th>\n",
       "      <th>text</th>\n",
       "      <th>label</th>\n",
       "      <th>label_name</th>\n",
       "    </tr>\n",
       "  </thead>\n",
       "  <tbody>\n",
       "    <tr>\n",
       "      <th>0</th>\n",
       "      <td>i feel awful about it too because it s my job ...</td>\n",
       "      <td>0</td>\n",
       "      <td>sadness</td>\n",
       "    </tr>\n",
       "    <tr>\n",
       "      <th>1</th>\n",
       "      <td>im alone i feel awful</td>\n",
       "      <td>0</td>\n",
       "      <td>sadness</td>\n",
       "    </tr>\n",
       "    <tr>\n",
       "      <th>2</th>\n",
       "      <td>ive probably mentioned this before but i reall...</td>\n",
       "      <td>1</td>\n",
       "      <td>joy</td>\n",
       "    </tr>\n",
       "    <tr>\n",
       "      <th>3</th>\n",
       "      <td>i was feeling a little low few days back</td>\n",
       "      <td>0</td>\n",
       "      <td>sadness</td>\n",
       "    </tr>\n",
       "    <tr>\n",
       "      <th>4</th>\n",
       "      <td>i beleive that i am much more sensitive to oth...</td>\n",
       "      <td>2</td>\n",
       "      <td>love</td>\n",
       "    </tr>\n",
       "  </tbody>\n",
       "</table>\n",
       "</div>"
      ],
      "text/plain": [
       "                                                text  label label_name\n",
       "0  i feel awful about it too because it s my job ...      0    sadness\n",
       "1                              im alone i feel awful      0    sadness\n",
       "2  ive probably mentioned this before but i reall...      1        joy\n",
       "3           i was feeling a little low few days back      0    sadness\n",
       "4  i beleive that i am much more sensitive to oth...      2       love"
      ]
     },
     "execution_count": 26,
     "metadata": {},
     "output_type": "execute_result"
    }
   ],
   "source": [
    "df.head()"
   ]
  },
  {
   "cell_type": "code",
   "execution_count": 9,
   "id": "41a80b8c-96da-41ab-86cf-63217a785169",
   "metadata": {},
   "outputs": [],
   "source": [
    "# # save data \n",
    "# df.to_csv('./data/twitter_sentiment.csv', index=False)"
   ]
  },
  {
   "cell_type": "markdown",
   "id": "38dd7a0d-9237-4dc7-abe7-24e863f1b243",
   "metadata": {},
   "source": [
    "### Data Exploration"
   ]
  },
  {
   "cell_type": "code",
   "execution_count": 27,
   "id": "211da709-23d5-4ebb-8d9d-ff71c7dc6ba1",
   "metadata": {},
   "outputs": [],
   "source": [
    "label_counts = df.label_name.value_counts(normalize=True, ascending=True)"
   ]
  },
  {
   "cell_type": "code",
   "execution_count": 28,
   "id": "1b48ff39-4271-412d-9e05-1b922e60f912",
   "metadata": {},
   "outputs": [
    {
     "data": {
      "text/plain": [
       "array([0.03592053, 0.08290128, 0.1144697 , 0.13751383, 0.29074948,\n",
       "       0.33844519])"
      ]
     },
     "execution_count": 28,
     "metadata": {},
     "output_type": "execute_result"
    }
   ],
   "source": [
    "label_counts.values"
   ]
  },
  {
   "cell_type": "code",
   "execution_count": 35,
   "id": "03337ef8-9564-43d4-8b36-f108c9f05861",
   "metadata": {},
   "outputs": [
    {
     "data": {
      "image/png": "[encoded data removed]",
      "text/plain": [
       "<IPython.core.display.Image object>"
      ]
     },
     "metadata": {},
     "output_type": "display_data"
    }
   ],
   "source": [
    "fig = go.Figure()\n",
    "\n",
    "fig.add_trace(\n",
    "    go.Bar(orientation=\"h\",\n",
    "           x=label_counts.values,\n",
    "           y=label_counts.index\n",
    "    )\n",
    ")\n",
    "\n",
    "fig.update_layout(\n",
    "    title=\"Class Proportion\",\n",
    "    xaxis_title=\"Proportion\",\n",
    "    yaxis_title=\"Class Name\",\n",
    "    plot_bgcolor='rgba(0,0,0,0)',\n",
    "    paper_bgcolor='rgba(0,0,0,0)'\n",
    ")\n",
    "\n",
    "fig.write_image(\"./assets/plot1.png\")\n",
    "display(Image(\"./assets/plot1.png\"))\n",
    "\n",
    "# Uncomment below fig for interactive plot in your local\n",
    "# fig.show() "
   ]
  },
  {
   "cell_type": "code",
   "execution_count": 31,
   "id": "ddad54b5-6375-45f4-b5c0-e51aee078ef9",
   "metadata": {},
   "outputs": [],
   "source": [
    "df['words_per_tweet'] = df['text'].str.split().apply(len)"
   ]
  },
  {
   "cell_type": "code",
   "execution_count": 32,
   "id": "72de984e-bbf4-4b81-b0b9-6de9a01462ad",
   "metadata": {},
   "outputs": [
    {
     "data": {
      "text/html": [
       "<div>\n",
       "<style scoped>\n",
       "    .dataframe tbody tr th:only-of-type {\n",
       "        vertical-align: middle;\n",
       "    }\n",
       "\n",
       "    .dataframe tbody tr th {\n",
       "        vertical-align: top;\n",
       "    }\n",
       "\n",
       "    .dataframe thead th {\n",
       "        text-align: right;\n",
       "    }\n",
       "</style>\n",
       "<table border=\"1\" class=\"dataframe\">\n",
       "  <thead>\n",
       "    <tr style=\"text-align: right;\">\n",
       "      <th></th>\n",
       "      <th>text</th>\n",
       "      <th>label</th>\n",
       "      <th>label_name</th>\n",
       "      <th>words_per_tweet</th>\n",
       "    </tr>\n",
       "  </thead>\n",
       "  <tbody>\n",
       "    <tr>\n",
       "      <th>0</th>\n",
       "      <td>i feel awful about it too because it s my job ...</td>\n",
       "      <td>0</td>\n",
       "      <td>sadness</td>\n",
       "      <td>26</td>\n",
       "    </tr>\n",
       "    <tr>\n",
       "      <th>1</th>\n",
       "      <td>im alone i feel awful</td>\n",
       "      <td>0</td>\n",
       "      <td>sadness</td>\n",
       "      <td>5</td>\n",
       "    </tr>\n",
       "    <tr>\n",
       "      <th>2</th>\n",
       "      <td>ive probably mentioned this before but i reall...</td>\n",
       "      <td>1</td>\n",
       "      <td>joy</td>\n",
       "      <td>27</td>\n",
       "    </tr>\n",
       "    <tr>\n",
       "      <th>3</th>\n",
       "      <td>i was feeling a little low few days back</td>\n",
       "      <td>0</td>\n",
       "      <td>sadness</td>\n",
       "      <td>9</td>\n",
       "    </tr>\n",
       "    <tr>\n",
       "      <th>4</th>\n",
       "      <td>i beleive that i am much more sensitive to oth...</td>\n",
       "      <td>2</td>\n",
       "      <td>love</td>\n",
       "      <td>18</td>\n",
       "    </tr>\n",
       "  </tbody>\n",
       "</table>\n",
       "</div>"
      ],
      "text/plain": [
       "                                                text  label label_name  \\\n",
       "0  i feel awful about it too because it s my job ...      0    sadness   \n",
       "1                              im alone i feel awful      0    sadness   \n",
       "2  ive probably mentioned this before but i reall...      1        joy   \n",
       "3           i was feeling a little low few days back      0    sadness   \n",
       "4  i beleive that i am much more sensitive to oth...      2       love   \n",
       "\n",
       "   words_per_tweet  \n",
       "0               26  \n",
       "1                5  \n",
       "2               27  \n",
       "3                9  \n",
       "4               18  "
      ]
     },
     "execution_count": 32,
     "metadata": {},
     "output_type": "execute_result"
    }
   ],
   "source": [
    "df.head()"
   ]
  },
  {
   "cell_type": "code",
   "execution_count": 36,
   "id": "7bf982a5-c29a-4a27-bfb3-9a332ead7009",
   "metadata": {},
   "outputs": [
    {
     "data": {
      "image/png": "[encoded data removed]",
      "text/plain": [
       "<IPython.core.display.Image object>"
      ]
     },
     "metadata": {},
     "output_type": "display_data"
    }
   ],
   "source": [
    "fig = make_subplots(cols=1, rows=2, \n",
    "                    shared_xaxes=True, \n",
    "                    row_heights=[0.5, 0.5])\n",
    "\n",
    "fig.add_trace(\n",
    "    go.Violin(\n",
    "        x=df.label_name,\n",
    "        y=df.words_per_tweet,\n",
    "        name='Violin'\n",
    "    ), col=1, row=1\n",
    ")\n",
    "\n",
    "fig.add_trace(\n",
    "    go.Box(\n",
    "        x=df.label_name,\n",
    "        y=df.words_per_tweet,\n",
    "        name='Box Plot'\n",
    "    ), col=1, row=2\n",
    ")\n",
    "\n",
    "fig.update_layout(\n",
    "    height=1000,\n",
    "    xaxis2_title='Class Name',\n",
    "    yaxis_title='Words Per Tweet',\n",
    "    yaxis2_title='Words Per Tweet',\n",
    "    plot_bgcolor='rgba(0,0,0,0)',\n",
    "    paper_bgcolor='rgba(0,0,0,0)'\n",
    ")\n",
    "\n",
    "\n",
    "fig.write_image(\"./assets/plot2.png\")\n",
    "display(Image(\"./assets/plot2.png\"))\n",
    "\n",
    "# Uncomment below fig for interactive plot in your local\n",
    "# fig.show() "
   ]
  },
  {
   "cell_type": "markdown",
   "id": "fd9fa978-6e68-47a0-8123-90fb0feef450",
   "metadata": {},
   "source": [
    "### Tokenization"
   ]
  },
  {
   "cell_type": "code",
   "execution_count": 44,
   "id": "1244070f-4df4-4bed-aa8e-bdf21944ea06",
   "metadata": {},
   "outputs": [],
   "source": [
    "tokenizer = AutoTokenizer.from_pretrained(model_checkpoint)"
   ]
  },
  {
   "cell_type": "code",
   "execution_count": 45,
   "id": "58e1e7fb-2c5c-454a-a135-0a7ab1d1b558",
   "metadata": {},
   "outputs": [
    {
     "data": {
      "text/plain": [
       "BertTokenizerFast(name_or_path='bert-base-uncased', vocab_size=30522, model_max_length=512, is_fast=True, padding_side='right', truncation_side='right', special_tokens={'unk_token': '[UNK]', 'sep_token': '[SEP]', 'pad_token': '[PAD]', 'cls_token': '[CLS]', 'mask_token': '[MASK]'}, clean_up_tokenization_spaces=False, added_tokens_decoder={\n",
       "\t0: AddedToken(\"[PAD]\", rstrip=False, lstrip=False, single_word=False, normalized=False, special=True),\n",
       "\t100: AddedToken(\"[UNK]\", rstrip=False, lstrip=False, single_word=False, normalized=False, special=True),\n",
       "\t101: AddedToken(\"[CLS]\", rstrip=False, lstrip=False, single_word=False, normalized=False, special=True),\n",
       "\t102: AddedToken(\"[SEP]\", rstrip=False, lstrip=False, single_word=False, normalized=False, special=True),\n",
       "\t103: AddedToken(\"[MASK]\", rstrip=False, lstrip=False, single_word=False, normalized=False, special=True),\n",
       "}\n",
       ")"
      ]
     },
     "execution_count": 45,
     "metadata": {},
     "output_type": "execute_result"
    }
   ],
   "source": [
    "tokenizer"
   ]
  },
  {
   "cell_type": "code",
   "execution_count": 46,
   "id": "06e5a930-13ba-4cbe-a0c9-9aeff80fc469",
   "metadata": {},
   "outputs": [
    {
     "name": "stdout",
     "output_type": "stream",
     "text": [
      "{'input_ids': [101, 1045, 2293, 9932, 999, 4638, 19204, 3989, 999, 102], 'token_type_ids': [0, 0, 0, 0, 0, 0, 0, 0, 0, 0], 'attention_mask': [1, 1, 1, 1, 1, 1, 1, 1, 1, 1]}\n"
     ]
    }
   ],
   "source": [
    "text = \"I love AI! Check tokenization!\"\n",
    "\n",
    "encoded_text = tokenizer(text)\n",
    "print(encoded_text)"
   ]
  },
  {
   "cell_type": "markdown",
   "id": "1dfe7bcc-4493-4fde-ad2d-5b6296aee65d",
   "metadata": {},
   "source": [
    "Special tokens:\n",
    "- 101 is [CLS]\n",
    "- 102 is [SEP]"
   ]
  },
  {
   "cell_type": "code",
   "execution_count": 47,
   "id": "32d1e95f-7d6f-4214-a3f8-86059aad19c1",
   "metadata": {},
   "outputs": [
    {
     "data": {
      "text/plain": [
       "(30522, 512)"
      ]
     },
     "execution_count": 47,
     "metadata": {},
     "output_type": "execute_result"
    }
   ],
   "source": [
    "tokenizer.vocab_size, tokenizer.model_max_length"
   ]
  },
  {
   "cell_type": "markdown",
   "id": "425cb98f-8ede-4aae-88fa-1add5cf561d1",
   "metadata": {},
   "source": [
    "### Data Loader and Train Test Split"
   ]
  },
  {
   "cell_type": "code",
   "execution_count": 48,
   "id": "3f3f49a3-4b62-497b-b29d-0a930f650b70",
   "metadata": {},
   "outputs": [
    {
     "data": {
      "application/vnd.jupyter.widget-view+json": {
       "model_id": "62ae3b13bbb440c0a45c643eb6377a24",
       "version_major": 2,
       "version_minor": 0
      },
      "text/plain": [
       "Casting the dataset:   0%|          | 0/416809 [00:00<?, ? examples/s]"
      ]
     },
     "metadata": {},
     "output_type": "display_data"
    }
   ],
   "source": [
    "# convert into Hugging Face dataset\n",
    "dataset = Dataset.from_pandas(df)\n",
    "class_names = sorted(set(dataset['label']))\n",
    "dataset = dataset.cast_column(\"label\", ClassLabel(names=class_names))"
   ]
  },
  {
   "cell_type": "code",
   "execution_count": 49,
   "id": "e3ed1cae-452a-4ee2-9413-695d9f186ed7",
   "metadata": {},
   "outputs": [],
   "source": [
    "# split train and test\n",
    "split_dataset = dataset.train_test_split(test_size=0.3, seed=42, stratify_by_column=\"label\")\n",
    "\n",
    "# split test and val\n",
    "split_test_val = split_dataset['test'].train_test_split(test_size=0.3, seed=42, stratify_by_column='label')"
   ]
  },
  {
   "cell_type": "code",
   "execution_count": 50,
   "id": "7f95aa0c-08cd-46ee-b15c-2f87eb4a3d57",
   "metadata": {},
   "outputs": [
    {
     "data": {
      "text/plain": [
       "(DatasetDict({\n",
       "     train: Dataset({\n",
       "         features: ['text', 'label', 'label_name', 'words_per_tweet'],\n",
       "         num_rows: 291766\n",
       "     })\n",
       "     test: Dataset({\n",
       "         features: ['text', 'label', 'label_name', 'words_per_tweet'],\n",
       "         num_rows: 125043\n",
       "     })\n",
       " }),\n",
       " DatasetDict({\n",
       "     train: Dataset({\n",
       "         features: ['text', 'label', 'label_name', 'words_per_tweet'],\n",
       "         num_rows: 87530\n",
       "     })\n",
       "     test: Dataset({\n",
       "         features: ['text', 'label', 'label_name', 'words_per_tweet'],\n",
       "         num_rows: 37513\n",
       "     })\n",
       " }))"
      ]
     },
     "execution_count": 50,
     "metadata": {},
     "output_type": "execute_result"
    }
   ],
   "source": [
    "split_dataset, split_test_val"
   ]
  },
  {
   "cell_type": "code",
   "execution_count": 51,
   "id": "4b264788-4889-4ce4-baa1-938b43f17541",
   "metadata": {},
   "outputs": [],
   "source": [
    "hg_dataset = DatasetDict(\n",
    "    dict(\n",
    "        train=split_dataset['train'], # train set\n",
    "        test=split_test_val['train'], # test set\n",
    "        val=split_test_val['test'] # val set\n",
    "    )\n",
    ")"
   ]
  },
  {
   "cell_type": "code",
   "execution_count": 52,
   "id": "63544dd0-c0cf-4900-97af-cc4af091c5a1",
   "metadata": {},
   "outputs": [
    {
     "data": {
      "text/plain": [
       "DatasetDict({\n",
       "    train: Dataset({\n",
       "        features: ['text', 'label', 'label_name', 'words_per_tweet'],\n",
       "        num_rows: 291766\n",
       "    })\n",
       "    test: Dataset({\n",
       "        features: ['text', 'label', 'label_name', 'words_per_tweet'],\n",
       "        num_rows: 87530\n",
       "    })\n",
       "    val: Dataset({\n",
       "        features: ['text', 'label', 'label_name', 'words_per_tweet'],\n",
       "        num_rows: 37513\n",
       "    })\n",
       "})"
      ]
     },
     "execution_count": 52,
     "metadata": {},
     "output_type": "execute_result"
    }
   ],
   "source": [
    "hg_dataset"
   ]
  },
  {
   "cell_type": "code",
   "execution_count": 53,
   "id": "c7d80deb-dc34-4e80-aa3f-362fee203d88",
   "metadata": {},
   "outputs": [
    {
     "data": {
      "text/plain": [
       "({'text': 'i feel like johnny cashs voice or maybe just the way he sings is terrible',\n",
       "  'label': 0,\n",
       "  'label_name': 'sadness',\n",
       "  'words_per_tweet': 15},\n",
       " {'text': 'i have this stupid feeling were too into the activity since weve devoted so much time to it',\n",
       "  'label': 2,\n",
       "  'label_name': 'love',\n",
       "  'words_per_tweet': 18})"
      ]
     },
     "execution_count": 53,
     "metadata": {},
     "output_type": "execute_result"
    }
   ],
   "source": [
    "hg_dataset['train'][0], hg_dataset['train'][1]"
   ]
  },
  {
   "cell_type": "code",
   "execution_count": 54,
   "id": "2ab1bc51-79d5-451c-a057-db04209dcd51",
   "metadata": {},
   "outputs": [],
   "source": [
    "def tokenize(batch):\n",
    "    temp = tokenizer(batch['text'], padding=True, truncation=True)\n",
    "    return temp"
   ]
  },
  {
   "cell_type": "code",
   "execution_count": 55,
   "id": "d10b5a94-4221-4652-88cf-dab51cca92c5",
   "metadata": {},
   "outputs": [
    {
     "name": "stdout",
     "output_type": "stream",
     "text": [
      "{'input_ids': [[101, 1045, 2514, 2066, 5206, 5356, 2015, 2376, 2030, 2672, 2074, 1996, 2126, 2002, 10955, 2003, 6659, 102, 0, 0, 0], [101, 1045, 2031, 2023, 5236, 3110, 2020, 2205, 2046, 1996, 4023, 2144, 2057, 3726, 7422, 2061, 2172, 2051, 2000, 2009, 102]], 'token_type_ids': [[0, 0, 0, 0, 0, 0, 0, 0, 0, 0, 0, 0, 0, 0, 0, 0, 0, 0, 0, 0, 0], [0, 0, 0, 0, 0, 0, 0, 0, 0, 0, 0, 0, 0, 0, 0, 0, 0, 0, 0, 0, 0]], 'attention_mask': [[1, 1, 1, 1, 1, 1, 1, 1, 1, 1, 1, 1, 1, 1, 1, 1, 1, 1, 0, 0, 0], [1, 1, 1, 1, 1, 1, 1, 1, 1, 1, 1, 1, 1, 1, 1, 1, 1, 1, 1, 1, 1]]}\n"
     ]
    }
   ],
   "source": [
    "# test tokenizer\n",
    "print(tokenize(hg_dataset['train'][:2]))"
   ]
  },
  {
   "cell_type": "code",
   "execution_count": 56,
   "id": "8558252f-c835-4a5a-bea8-89d2c2d4cfeb",
   "metadata": {},
   "outputs": [
    {
     "data": {
      "application/vnd.jupyter.widget-view+json": {
       "model_id": "acecc7f4d61a47d1913fe0274c031727",
       "version_major": 2,
       "version_minor": 0
      },
      "text/plain": [
       "Map:   0%|          | 0/291766 [00:00<?, ? examples/s]"
      ]
     },
     "metadata": {},
     "output_type": "display_data"
    },
    {
     "data": {
      "application/vnd.jupyter.widget-view+json": {
       "model_id": "43465f0059e54ee4a9f826e97e3fdfc8",
       "version_major": 2,
       "version_minor": 0
      },
      "text/plain": [
       "Map:   0%|          | 0/87530 [00:00<?, ? examples/s]"
      ]
     },
     "metadata": {},
     "output_type": "display_data"
    },
    {
     "data": {
      "application/vnd.jupyter.widget-view+json": {
       "model_id": "82d4d851b4d54684834215c8f2448e2f",
       "version_major": 2,
       "version_minor": 0
      },
      "text/plain": [
       "Map:   0%|          | 0/37513 [00:00<?, ? examples/s]"
      ]
     },
     "metadata": {},
     "output_type": "display_data"
    }
   ],
   "source": [
    "emotion_encoded = hg_dataset.map(tokenize, batched=True, batch_size=None)"
   ]
  },
  {
   "cell_type": "code",
   "execution_count": 57,
   "id": "558bd052-c4b3-4bb4-a357-e10e6bd042d8",
   "metadata": {},
   "outputs": [
    {
     "data": {
      "text/plain": [
       "DatasetDict({\n",
       "    train: Dataset({\n",
       "        features: ['text', 'label', 'label_name', 'words_per_tweet', 'input_ids', 'token_type_ids', 'attention_mask'],\n",
       "        num_rows: 291766\n",
       "    })\n",
       "    test: Dataset({\n",
       "        features: ['text', 'label', 'label_name', 'words_per_tweet', 'input_ids', 'token_type_ids', 'attention_mask'],\n",
       "        num_rows: 87530\n",
       "    })\n",
       "    val: Dataset({\n",
       "        features: ['text', 'label', 'label_name', 'words_per_tweet', 'input_ids', 'token_type_ids', 'attention_mask'],\n",
       "        num_rows: 37513\n",
       "    })\n",
       "})"
      ]
     },
     "execution_count": 57,
     "metadata": {},
     "output_type": "execute_result"
    }
   ],
   "source": [
    "emotion_encoded"
   ]
  },
  {
   "cell_type": "markdown",
   "id": "7bda948c-2331-484c-8ac0-09c0e2b661d6",
   "metadata": {},
   "source": [
    "### Map Label to Id and Id to Label"
   ]
  },
  {
   "cell_type": "code",
   "execution_count": 58,
   "id": "3487a28d-bfd4-462e-99fc-5bd8daed6b8f",
   "metadata": {},
   "outputs": [],
   "source": [
    "label2id = dict((x['label_name'], x['label']) for x in hg_dataset['train'])\n",
    "\n",
    "id2label = dict((v,k) for k, v in label2id.items())"
   ]
  },
  {
   "cell_type": "code",
   "execution_count": 59,
   "id": "fc6ad4ce-2214-43fb-9f44-8a319d0a322f",
   "metadata": {},
   "outputs": [
    {
     "data": {
      "text/plain": [
       "({'sadness': 0, 'love': 2, 'joy': 1, 'anger': 3, 'fear': 4, 'surprise': 5},\n",
       " {0: 'sadness', 2: 'love', 1: 'joy', 3: 'anger', 4: 'fear', 5: 'surprise'})"
      ]
     },
     "execution_count": 59,
     "metadata": {},
     "output_type": "execute_result"
    }
   ],
   "source": [
    "label2id, id2label"
   ]
  },
  {
   "cell_type": "code",
   "execution_count": 60,
   "id": "0a6a2675-4285-4d8a-9a48-3c48b594cf56",
   "metadata": {},
   "outputs": [],
   "source": [
    "# Set config\n",
    "num_labels = len(label2id)\n",
    "config = AutoConfig.from_pretrained(model_checkpoint, label2id=label2id, id2label=id2label)"
   ]
  },
  {
   "cell_type": "markdown",
   "id": "d35fbe1f-c06c-4982-a9c5-3fd707b0ce37",
   "metadata": {},
   "source": [
    "### Model Building"
   ]
  },
  {
   "cell_type": "code",
   "execution_count": 33,
   "id": "63746e33-dbee-41e6-8be8-a32e439a5184",
   "metadata": {},
   "outputs": [
    {
     "name": "stderr",
     "output_type": "stream",
     "text": [
      "Some weights of BertForSequenceClassification were not initialized from the model checkpoint at bert-base-uncased and are newly initialized: ['classifier.bias', 'classifier.weight']\n",
      "You should probably TRAIN this model on a down-stream task to be able to use it for predictions and inference.\n"
     ]
    },
    {
     "data": {
      "text/plain": [
       "BertForSequenceClassification(\n",
       "  (bert): BertModel(\n",
       "    (embeddings): BertEmbeddings(\n",
       "      (word_embeddings): Embedding(30522, 768, padding_idx=0)\n",
       "      (position_embeddings): Embedding(512, 768)\n",
       "      (token_type_embeddings): Embedding(2, 768)\n",
       "      (LayerNorm): LayerNorm((768,), eps=1e-12, elementwise_affine=True)\n",
       "      (dropout): Dropout(p=0.1, inplace=False)\n",
       "    )\n",
       "    (encoder): BertEncoder(\n",
       "      (layer): ModuleList(\n",
       "        (0-11): 12 x BertLayer(\n",
       "          (attention): BertAttention(\n",
       "            (self): BertSdpaSelfAttention(\n",
       "              (query): Linear(in_features=768, out_features=768, bias=True)\n",
       "              (key): Linear(in_features=768, out_features=768, bias=True)\n",
       "              (value): Linear(in_features=768, out_features=768, bias=True)\n",
       "              (dropout): Dropout(p=0.1, inplace=False)\n",
       "            )\n",
       "            (output): BertSelfOutput(\n",
       "              (dense): Linear(in_features=768, out_features=768, bias=True)\n",
       "              (LayerNorm): LayerNorm((768,), eps=1e-12, elementwise_affine=True)\n",
       "              (dropout): Dropout(p=0.1, inplace=False)\n",
       "            )\n",
       "          )\n",
       "          (intermediate): BertIntermediate(\n",
       "            (dense): Linear(in_features=768, out_features=3072, bias=True)\n",
       "            (intermediate_act_fn): GELUActivation()\n",
       "          )\n",
       "          (output): BertOutput(\n",
       "            (dense): Linear(in_features=3072, out_features=768, bias=True)\n",
       "            (LayerNorm): LayerNorm((768,), eps=1e-12, elementwise_affine=True)\n",
       "            (dropout): Dropout(p=0.1, inplace=False)\n",
       "          )\n",
       "        )\n",
       "      )\n",
       "    )\n",
       "    (pooler): BertPooler(\n",
       "      (dense): Linear(in_features=768, out_features=768, bias=True)\n",
       "      (activation): Tanh()\n",
       "    )\n",
       "  )\n",
       "  (dropout): Dropout(p=0.1, inplace=False)\n",
       "  (classifier): Linear(in_features=768, out_features=6, bias=True)\n",
       ")"
      ]
     },
     "execution_count": 33,
     "metadata": {},
     "output_type": "execute_result"
    }
   ],
   "source": [
    "model = AutoModelForSequenceClassification.from_pretrained(model_checkpoint, config=config).to(device)\n",
    "model"
   ]
  },
  {
   "cell_type": "code",
   "execution_count": 34,
   "id": "0b6acd6b-1728-4418-ab04-8f44c9946690",
   "metadata": {},
   "outputs": [
    {
     "data": {
      "text/plain": [
       "BertConfig {\n",
       "  \"architectures\": [\n",
       "    \"BertForMaskedLM\"\n",
       "  ],\n",
       "  \"attention_probs_dropout_prob\": 0.1,\n",
       "  \"classifier_dropout\": null,\n",
       "  \"gradient_checkpointing\": false,\n",
       "  \"hidden_act\": \"gelu\",\n",
       "  \"hidden_dropout_prob\": 0.1,\n",
       "  \"hidden_size\": 768,\n",
       "  \"id2label\": {\n",
       "    \"0\": \"sadness\",\n",
       "    \"1\": \"joy\",\n",
       "    \"2\": \"love\",\n",
       "    \"3\": \"anger\",\n",
       "    \"4\": \"fear\",\n",
       "    \"5\": \"surprise\"\n",
       "  },\n",
       "  \"initializer_range\": 0.02,\n",
       "  \"intermediate_size\": 3072,\n",
       "  \"label2id\": {\n",
       "    \"anger\": 3,\n",
       "    \"fear\": 4,\n",
       "    \"joy\": 1,\n",
       "    \"love\": 2,\n",
       "    \"sadness\": 0,\n",
       "    \"surprise\": 5\n",
       "  },\n",
       "  \"layer_norm_eps\": 1e-12,\n",
       "  \"max_position_embeddings\": 512,\n",
       "  \"model_type\": \"bert\",\n",
       "  \"num_attention_heads\": 12,\n",
       "  \"num_hidden_layers\": 12,\n",
       "  \"pad_token_id\": 0,\n",
       "  \"position_embedding_type\": \"absolute\",\n",
       "  \"torch_dtype\": \"float32\",\n",
       "  \"transformers_version\": \"4.52.4\",\n",
       "  \"type_vocab_size\": 2,\n",
       "  \"use_cache\": true,\n",
       "  \"vocab_size\": 30522\n",
       "}"
      ]
     },
     "execution_count": 34,
     "metadata": {},
     "output_type": "execute_result"
    }
   ],
   "source": [
    "model.config"
   ]
  },
  {
   "cell_type": "markdown",
   "id": "35f493fe-3d03-44c6-ad52-d7ceaffbeaa6",
   "metadata": {},
   "source": [
    "### Training Arguments"
   ]
  },
  {
   "cell_type": "code",
   "execution_count": 35,
   "id": "8d08e247-19c2-4739-9a23-7ba836e1dc84",
   "metadata": {},
   "outputs": [],
   "source": [
    "batch_size = 16\n",
    "training_dir = \"bert_base_uncased_emotion_classification\"\n",
    "\n",
    "training_args = TrainingArguments(output_dir= training_dir,\n",
    "                                 overwrite_output_dir=True,\n",
    "                                 num_train_epochs= 2,\n",
    "                                 learning_rate=5e-05,\n",
    "                                 per_device_train_batch_size=batch_size,\n",
    "                                 per_device_eval_batch_size=batch_size,\n",
    "                                 weight_decay=0.01,\n",
    "                                 eval_strategy='steps',\n",
    "                                 disable_tqdm=False,\n",
    "                                 load_best_model_at_end=True)"
   ]
  },
  {
   "cell_type": "markdown",
   "id": "a9fdac3b-ff44-46fe-b46c-af9ef801e9fd",
   "metadata": {},
   "source": [
    "### Compute Metrics"
   ]
  },
  {
   "cell_type": "code",
   "execution_count": 36,
   "id": "1fa8c130-97d5-43c3-917c-6161d94fbf43",
   "metadata": {},
   "outputs": [
    {
     "name": "stdout",
     "output_type": "stream",
     "text": [
      "['sadness', 'joy', 'love', 'anger', 'fear', 'surprise']\n"
     ]
    }
   ],
   "source": [
    "target_names = [label_name_map[i] for i in sorted(label_name_map)]\n",
    "print(target_names)"
   ]
  },
  {
   "cell_type": "code",
   "execution_count": 40,
   "id": "7dc33d5c-3d33-4eb2-a1b5-6fa64cd8e350",
   "metadata": {},
   "outputs": [],
   "source": [
    "def compute_metrics(prediction):\n",
    "    predictions, labels = prediction\n",
    "    predictions = np.argmax(predictions, axis=1)\n",
    "    report = classification_report(\n",
    "        labels,\n",
    "        predictions,\n",
    "        target_names=target_names,\n",
    "        output_dict=True,\n",
    "        zero_division=0 \n",
    "    )\n",
    "\n",
    "    return {\n",
    "        \"accuracy\": report[\"accuracy\"],\n",
    "        \"precision_macro\": report[\"weighted avg\"][\"precision\"],\n",
    "        \"recall_macro\": report[\"weighted avg\"][\"recall\"],\n",
    "        \"f1_macro\": report[\"weighted avg\"][\"f1-score\"],\n",
    "    }"
   ]
  },
  {
   "cell_type": "markdown",
   "id": "9caf80a9-9ce9-4fb6-8ad0-5712de1b568d",
   "metadata": {},
   "source": [
    "### Model Training"
   ]
  },
  {
   "cell_type": "code",
   "execution_count": 41,
   "id": "e5c2869a-5317-487e-967d-951ac75f361b",
   "metadata": {},
   "outputs": [
    {
     "name": "stderr",
     "output_type": "stream",
     "text": [
      "/tmp/ipykernel_11639/1658509394.py:1: FutureWarning:\n",
      "\n",
      "`tokenizer` is deprecated and will be removed in version 5.0.0 for `Trainer.__init__`. Use `processing_class` instead.\n",
      "\n"
     ]
    }
   ],
   "source": [
    "trainer = Trainer(model=model, \n",
    "                 args=training_args,\n",
    "                 compute_metrics=compute_metrics,\n",
    "                 train_dataset=emotion_encoded['train'],\n",
    "                 eval_dataset=emotion_encoded['val'],\n",
    "                 tokenizer=tokenizer)"
   ]
  },
  {
   "cell_type": "code",
   "execution_count": 42,
   "id": "b096d26e-17f2-4806-8405-e78e5c9e5ddf",
   "metadata": {},
   "outputs": [
    {
     "data": {
      "text/html": [
       "\n",
       "    <div>\n",
       "      \n",
       "      <progress value='36472' max='36472' style='width:300px; height:20px; vertical-align: middle;'></progress>\n",
       "      [36472/36472 2:59:45, Epoch 2/2]\n",
       "    </div>\n",
       "    <table border=\"1\" class=\"dataframe\">\n",
       "  <thead>\n",
       " <tr style=\"text-align: left;\">\n",
       "      <th>Step</th>\n",
       "      <th>Training Loss</th>\n",
       "      <th>Validation Loss</th>\n",
       "      <th>Accuracy</th>\n",
       "      <th>Precision Macro</th>\n",
       "      <th>Recall Macro</th>\n",
       "      <th>F1 Macro</th>\n",
       "    </tr>\n",
       "  </thead>\n",
       "  <tbody>\n",
       "    <tr>\n",
       "      <td>500</td>\n",
       "      <td>0.196000</td>\n",
       "      <td>0.294190</td>\n",
       "      <td>0.918668</td>\n",
       "      <td>0.924601</td>\n",
       "      <td>0.918668</td>\n",
       "      <td>0.919961</td>\n",
       "    </tr>\n",
       "    <tr>\n",
       "      <td>1000</td>\n",
       "      <td>0.241300</td>\n",
       "      <td>0.210450</td>\n",
       "      <td>0.924373</td>\n",
       "      <td>0.926646</td>\n",
       "      <td>0.924373</td>\n",
       "      <td>0.924573</td>\n",
       "    </tr>\n",
       "    <tr>\n",
       "      <td>1500</td>\n",
       "      <td>0.179300</td>\n",
       "      <td>0.145727</td>\n",
       "      <td>0.933863</td>\n",
       "      <td>0.938408</td>\n",
       "      <td>0.933863</td>\n",
       "      <td>0.932524</td>\n",
       "    </tr>\n",
       "    <tr>\n",
       "      <td>2000</td>\n",
       "      <td>0.146900</td>\n",
       "      <td>0.141704</td>\n",
       "      <td>0.935516</td>\n",
       "      <td>0.944020</td>\n",
       "      <td>0.935516</td>\n",
       "      <td>0.936674</td>\n",
       "    </tr>\n",
       "    <tr>\n",
       "      <td>2500</td>\n",
       "      <td>0.151700</td>\n",
       "      <td>0.141105</td>\n",
       "      <td>0.935622</td>\n",
       "      <td>0.939282</td>\n",
       "      <td>0.935622</td>\n",
       "      <td>0.934304</td>\n",
       "    </tr>\n",
       "    <tr>\n",
       "      <td>3000</td>\n",
       "      <td>0.143400</td>\n",
       "      <td>0.128941</td>\n",
       "      <td>0.936155</td>\n",
       "      <td>0.938900</td>\n",
       "      <td>0.936155</td>\n",
       "      <td>0.934642</td>\n",
       "    </tr>\n",
       "    <tr>\n",
       "      <td>3500</td>\n",
       "      <td>0.150100</td>\n",
       "      <td>0.140122</td>\n",
       "      <td>0.934369</td>\n",
       "      <td>0.937576</td>\n",
       "      <td>0.934369</td>\n",
       "      <td>0.932404</td>\n",
       "    </tr>\n",
       "    <tr>\n",
       "      <td>4000</td>\n",
       "      <td>0.145800</td>\n",
       "      <td>0.118557</td>\n",
       "      <td>0.938741</td>\n",
       "      <td>0.941486</td>\n",
       "      <td>0.938741</td>\n",
       "      <td>0.937307</td>\n",
       "    </tr>\n",
       "    <tr>\n",
       "      <td>4500</td>\n",
       "      <td>0.115500</td>\n",
       "      <td>0.121801</td>\n",
       "      <td>0.938901</td>\n",
       "      <td>0.947316</td>\n",
       "      <td>0.938901</td>\n",
       "      <td>0.940431</td>\n",
       "    </tr>\n",
       "    <tr>\n",
       "      <td>5000</td>\n",
       "      <td>0.140900</td>\n",
       "      <td>0.117556</td>\n",
       "      <td>0.937915</td>\n",
       "      <td>0.941837</td>\n",
       "      <td>0.937915</td>\n",
       "      <td>0.936446</td>\n",
       "    </tr>\n",
       "    <tr>\n",
       "      <td>5500</td>\n",
       "      <td>0.127800</td>\n",
       "      <td>0.118924</td>\n",
       "      <td>0.938928</td>\n",
       "      <td>0.941922</td>\n",
       "      <td>0.938928</td>\n",
       "      <td>0.937444</td>\n",
       "    </tr>\n",
       "    <tr>\n",
       "      <td>6000</td>\n",
       "      <td>0.136200</td>\n",
       "      <td>0.128164</td>\n",
       "      <td>0.936502</td>\n",
       "      <td>0.941071</td>\n",
       "      <td>0.936502</td>\n",
       "      <td>0.935423</td>\n",
       "    </tr>\n",
       "    <tr>\n",
       "      <td>6500</td>\n",
       "      <td>0.125500</td>\n",
       "      <td>0.107698</td>\n",
       "      <td>0.940207</td>\n",
       "      <td>0.942760</td>\n",
       "      <td>0.940207</td>\n",
       "      <td>0.938670</td>\n",
       "    </tr>\n",
       "    <tr>\n",
       "      <td>7000</td>\n",
       "      <td>0.122400</td>\n",
       "      <td>0.110075</td>\n",
       "      <td>0.939301</td>\n",
       "      <td>0.942460</td>\n",
       "      <td>0.939301</td>\n",
       "      <td>0.936670</td>\n",
       "    </tr>\n",
       "    <tr>\n",
       "      <td>7500</td>\n",
       "      <td>0.118000</td>\n",
       "      <td>0.114700</td>\n",
       "      <td>0.939621</td>\n",
       "      <td>0.948215</td>\n",
       "      <td>0.939621</td>\n",
       "      <td>0.940952</td>\n",
       "    </tr>\n",
       "    <tr>\n",
       "      <td>8000</td>\n",
       "      <td>0.114500</td>\n",
       "      <td>0.108135</td>\n",
       "      <td>0.938875</td>\n",
       "      <td>0.941997</td>\n",
       "      <td>0.938875</td>\n",
       "      <td>0.936309</td>\n",
       "    </tr>\n",
       "    <tr>\n",
       "      <td>8500</td>\n",
       "      <td>0.111700</td>\n",
       "      <td>0.122495</td>\n",
       "      <td>0.936875</td>\n",
       "      <td>0.943189</td>\n",
       "      <td>0.936875</td>\n",
       "      <td>0.936888</td>\n",
       "    </tr>\n",
       "    <tr>\n",
       "      <td>9000</td>\n",
       "      <td>0.123400</td>\n",
       "      <td>0.115736</td>\n",
       "      <td>0.938635</td>\n",
       "      <td>0.946327</td>\n",
       "      <td>0.938635</td>\n",
       "      <td>0.939746</td>\n",
       "    </tr>\n",
       "    <tr>\n",
       "      <td>9500</td>\n",
       "      <td>0.120000</td>\n",
       "      <td>0.110317</td>\n",
       "      <td>0.939141</td>\n",
       "      <td>0.945943</td>\n",
       "      <td>0.939141</td>\n",
       "      <td>0.939172</td>\n",
       "    </tr>\n",
       "    <tr>\n",
       "      <td>10000</td>\n",
       "      <td>0.120100</td>\n",
       "      <td>0.117963</td>\n",
       "      <td>0.940207</td>\n",
       "      <td>0.944679</td>\n",
       "      <td>0.940207</td>\n",
       "      <td>0.938847</td>\n",
       "    </tr>\n",
       "    <tr>\n",
       "      <td>10500</td>\n",
       "      <td>0.121700</td>\n",
       "      <td>0.105839</td>\n",
       "      <td>0.940741</td>\n",
       "      <td>0.941794</td>\n",
       "      <td>0.940741</td>\n",
       "      <td>0.938494</td>\n",
       "    </tr>\n",
       "    <tr>\n",
       "      <td>11000</td>\n",
       "      <td>0.116400</td>\n",
       "      <td>0.111321</td>\n",
       "      <td>0.939488</td>\n",
       "      <td>0.946634</td>\n",
       "      <td>0.939488</td>\n",
       "      <td>0.940253</td>\n",
       "    </tr>\n",
       "    <tr>\n",
       "      <td>11500</td>\n",
       "      <td>0.108300</td>\n",
       "      <td>0.100647</td>\n",
       "      <td>0.941114</td>\n",
       "      <td>0.944519</td>\n",
       "      <td>0.941114</td>\n",
       "      <td>0.939708</td>\n",
       "    </tr>\n",
       "    <tr>\n",
       "      <td>12000</td>\n",
       "      <td>0.108200</td>\n",
       "      <td>0.103776</td>\n",
       "      <td>0.939141</td>\n",
       "      <td>0.946103</td>\n",
       "      <td>0.939141</td>\n",
       "      <td>0.940418</td>\n",
       "    </tr>\n",
       "    <tr>\n",
       "      <td>12500</td>\n",
       "      <td>0.119500</td>\n",
       "      <td>0.103198</td>\n",
       "      <td>0.941167</td>\n",
       "      <td>0.945532</td>\n",
       "      <td>0.941167</td>\n",
       "      <td>0.938921</td>\n",
       "    </tr>\n",
       "    <tr>\n",
       "      <td>13000</td>\n",
       "      <td>0.104700</td>\n",
       "      <td>0.098916</td>\n",
       "      <td>0.942073</td>\n",
       "      <td>0.946538</td>\n",
       "      <td>0.942073</td>\n",
       "      <td>0.940738</td>\n",
       "    </tr>\n",
       "    <tr>\n",
       "      <td>13500</td>\n",
       "      <td>0.104700</td>\n",
       "      <td>0.160595</td>\n",
       "      <td>0.936689</td>\n",
       "      <td>0.944685</td>\n",
       "      <td>0.936689</td>\n",
       "      <td>0.937627</td>\n",
       "    </tr>\n",
       "    <tr>\n",
       "      <td>14000</td>\n",
       "      <td>0.116500</td>\n",
       "      <td>0.107845</td>\n",
       "      <td>0.941140</td>\n",
       "      <td>0.944452</td>\n",
       "      <td>0.941140</td>\n",
       "      <td>0.939355</td>\n",
       "    </tr>\n",
       "    <tr>\n",
       "      <td>14500</td>\n",
       "      <td>0.110900</td>\n",
       "      <td>0.097208</td>\n",
       "      <td>0.941514</td>\n",
       "      <td>0.946400</td>\n",
       "      <td>0.941514</td>\n",
       "      <td>0.939824</td>\n",
       "    </tr>\n",
       "    <tr>\n",
       "      <td>15000</td>\n",
       "      <td>0.104200</td>\n",
       "      <td>0.105226</td>\n",
       "      <td>0.941380</td>\n",
       "      <td>0.943580</td>\n",
       "      <td>0.941380</td>\n",
       "      <td>0.939510</td>\n",
       "    </tr>\n",
       "    <tr>\n",
       "      <td>15500</td>\n",
       "      <td>0.109700</td>\n",
       "      <td>0.105789</td>\n",
       "      <td>0.939488</td>\n",
       "      <td>0.943712</td>\n",
       "      <td>0.939488</td>\n",
       "      <td>0.937195</td>\n",
       "    </tr>\n",
       "    <tr>\n",
       "      <td>16000</td>\n",
       "      <td>0.103900</td>\n",
       "      <td>0.099381</td>\n",
       "      <td>0.940474</td>\n",
       "      <td>0.943559</td>\n",
       "      <td>0.940474</td>\n",
       "      <td>0.938803</td>\n",
       "    </tr>\n",
       "    <tr>\n",
       "      <td>16500</td>\n",
       "      <td>0.103100</td>\n",
       "      <td>0.106393</td>\n",
       "      <td>0.939541</td>\n",
       "      <td>0.945895</td>\n",
       "      <td>0.939541</td>\n",
       "      <td>0.940379</td>\n",
       "    </tr>\n",
       "    <tr>\n",
       "      <td>17000</td>\n",
       "      <td>0.111800</td>\n",
       "      <td>0.096794</td>\n",
       "      <td>0.940394</td>\n",
       "      <td>0.948406</td>\n",
       "      <td>0.940394</td>\n",
       "      <td>0.941774</td>\n",
       "    </tr>\n",
       "    <tr>\n",
       "      <td>17500</td>\n",
       "      <td>0.114500</td>\n",
       "      <td>0.098627</td>\n",
       "      <td>0.941754</td>\n",
       "      <td>0.944667</td>\n",
       "      <td>0.941754</td>\n",
       "      <td>0.940320</td>\n",
       "    </tr>\n",
       "    <tr>\n",
       "      <td>18000</td>\n",
       "      <td>0.094200</td>\n",
       "      <td>0.099455</td>\n",
       "      <td>0.941274</td>\n",
       "      <td>0.946163</td>\n",
       "      <td>0.941274</td>\n",
       "      <td>0.938804</td>\n",
       "    </tr>\n",
       "    <tr>\n",
       "      <td>18500</td>\n",
       "      <td>0.103000</td>\n",
       "      <td>0.101201</td>\n",
       "      <td>0.941407</td>\n",
       "      <td>0.945305</td>\n",
       "      <td>0.941407</td>\n",
       "      <td>0.939076</td>\n",
       "    </tr>\n",
       "    <tr>\n",
       "      <td>19000</td>\n",
       "      <td>0.099800</td>\n",
       "      <td>0.097349</td>\n",
       "      <td>0.941487</td>\n",
       "      <td>0.947940</td>\n",
       "      <td>0.941487</td>\n",
       "      <td>0.942704</td>\n",
       "    </tr>\n",
       "    <tr>\n",
       "      <td>19500</td>\n",
       "      <td>0.097200</td>\n",
       "      <td>0.094972</td>\n",
       "      <td>0.941780</td>\n",
       "      <td>0.945327</td>\n",
       "      <td>0.941780</td>\n",
       "      <td>0.940538</td>\n",
       "    </tr>\n",
       "    <tr>\n",
       "      <td>20000</td>\n",
       "      <td>0.091800</td>\n",
       "      <td>0.095456</td>\n",
       "      <td>0.942393</td>\n",
       "      <td>0.948686</td>\n",
       "      <td>0.942393</td>\n",
       "      <td>0.943227</td>\n",
       "    </tr>\n",
       "    <tr>\n",
       "      <td>20500</td>\n",
       "      <td>0.096500</td>\n",
       "      <td>0.095508</td>\n",
       "      <td>0.941540</td>\n",
       "      <td>0.949515</td>\n",
       "      <td>0.941540</td>\n",
       "      <td>0.942525</td>\n",
       "    </tr>\n",
       "    <tr>\n",
       "      <td>21000</td>\n",
       "      <td>0.097400</td>\n",
       "      <td>0.095548</td>\n",
       "      <td>0.941300</td>\n",
       "      <td>0.944220</td>\n",
       "      <td>0.941300</td>\n",
       "      <td>0.939783</td>\n",
       "    </tr>\n",
       "    <tr>\n",
       "      <td>21500</td>\n",
       "      <td>0.093400</td>\n",
       "      <td>0.102771</td>\n",
       "      <td>0.940794</td>\n",
       "      <td>0.943671</td>\n",
       "      <td>0.940794</td>\n",
       "      <td>0.938349</td>\n",
       "    </tr>\n",
       "    <tr>\n",
       "      <td>22000</td>\n",
       "      <td>0.092300</td>\n",
       "      <td>0.122509</td>\n",
       "      <td>0.939621</td>\n",
       "      <td>0.948070</td>\n",
       "      <td>0.939621</td>\n",
       "      <td>0.940975</td>\n",
       "    </tr>\n",
       "    <tr>\n",
       "      <td>22500</td>\n",
       "      <td>0.094700</td>\n",
       "      <td>0.096070</td>\n",
       "      <td>0.941594</td>\n",
       "      <td>0.946657</td>\n",
       "      <td>0.941594</td>\n",
       "      <td>0.940524</td>\n",
       "    </tr>\n",
       "    <tr>\n",
       "      <td>23000</td>\n",
       "      <td>0.095600</td>\n",
       "      <td>0.095889</td>\n",
       "      <td>0.942127</td>\n",
       "      <td>0.946974</td>\n",
       "      <td>0.942127</td>\n",
       "      <td>0.941369</td>\n",
       "    </tr>\n",
       "    <tr>\n",
       "      <td>23500</td>\n",
       "      <td>0.082100</td>\n",
       "      <td>0.100810</td>\n",
       "      <td>0.941034</td>\n",
       "      <td>0.948062</td>\n",
       "      <td>0.941034</td>\n",
       "      <td>0.941728</td>\n",
       "    </tr>\n",
       "    <tr>\n",
       "      <td>24000</td>\n",
       "      <td>0.093500</td>\n",
       "      <td>0.095254</td>\n",
       "      <td>0.942153</td>\n",
       "      <td>0.946752</td>\n",
       "      <td>0.942153</td>\n",
       "      <td>0.941329</td>\n",
       "    </tr>\n",
       "    <tr>\n",
       "      <td>24500</td>\n",
       "      <td>0.100600</td>\n",
       "      <td>0.095159</td>\n",
       "      <td>0.941194</td>\n",
       "      <td>0.948904</td>\n",
       "      <td>0.941194</td>\n",
       "      <td>0.942062</td>\n",
       "    </tr>\n",
       "    <tr>\n",
       "      <td>25000</td>\n",
       "      <td>0.090100</td>\n",
       "      <td>0.097146</td>\n",
       "      <td>0.942367</td>\n",
       "      <td>0.946553</td>\n",
       "      <td>0.942367</td>\n",
       "      <td>0.941127</td>\n",
       "    </tr>\n",
       "    <tr>\n",
       "      <td>25500</td>\n",
       "      <td>0.086400</td>\n",
       "      <td>0.096152</td>\n",
       "      <td>0.941993</td>\n",
       "      <td>0.950536</td>\n",
       "      <td>0.941993</td>\n",
       "      <td>0.943601</td>\n",
       "    </tr>\n",
       "    <tr>\n",
       "      <td>26000</td>\n",
       "      <td>0.089600</td>\n",
       "      <td>0.093954</td>\n",
       "      <td>0.942287</td>\n",
       "      <td>0.951325</td>\n",
       "      <td>0.942287</td>\n",
       "      <td>0.943297</td>\n",
       "    </tr>\n",
       "    <tr>\n",
       "      <td>26500</td>\n",
       "      <td>0.086400</td>\n",
       "      <td>0.094911</td>\n",
       "      <td>0.942020</td>\n",
       "      <td>0.947201</td>\n",
       "      <td>0.942020</td>\n",
       "      <td>0.942428</td>\n",
       "    </tr>\n",
       "    <tr>\n",
       "      <td>27000</td>\n",
       "      <td>0.093700</td>\n",
       "      <td>0.093859</td>\n",
       "      <td>0.941993</td>\n",
       "      <td>0.943935</td>\n",
       "      <td>0.941993</td>\n",
       "      <td>0.940155</td>\n",
       "    </tr>\n",
       "    <tr>\n",
       "      <td>27500</td>\n",
       "      <td>0.090600</td>\n",
       "      <td>0.093055</td>\n",
       "      <td>0.942500</td>\n",
       "      <td>0.945789</td>\n",
       "      <td>0.942500</td>\n",
       "      <td>0.941493</td>\n",
       "    </tr>\n",
       "    <tr>\n",
       "      <td>28000</td>\n",
       "      <td>0.092100</td>\n",
       "      <td>0.090631</td>\n",
       "      <td>0.941700</td>\n",
       "      <td>0.948001</td>\n",
       "      <td>0.941700</td>\n",
       "      <td>0.941654</td>\n",
       "    </tr>\n",
       "    <tr>\n",
       "      <td>28500</td>\n",
       "      <td>0.091900</td>\n",
       "      <td>0.093978</td>\n",
       "      <td>0.941967</td>\n",
       "      <td>0.945852</td>\n",
       "      <td>0.941967</td>\n",
       "      <td>0.940140</td>\n",
       "    </tr>\n",
       "    <tr>\n",
       "      <td>29000</td>\n",
       "      <td>0.088600</td>\n",
       "      <td>0.095490</td>\n",
       "      <td>0.941487</td>\n",
       "      <td>0.949116</td>\n",
       "      <td>0.941487</td>\n",
       "      <td>0.942358</td>\n",
       "    </tr>\n",
       "    <tr>\n",
       "      <td>29500</td>\n",
       "      <td>0.090500</td>\n",
       "      <td>0.093396</td>\n",
       "      <td>0.940927</td>\n",
       "      <td>0.947069</td>\n",
       "      <td>0.940927</td>\n",
       "      <td>0.942081</td>\n",
       "    </tr>\n",
       "    <tr>\n",
       "      <td>30000</td>\n",
       "      <td>0.093200</td>\n",
       "      <td>0.092817</td>\n",
       "      <td>0.941007</td>\n",
       "      <td>0.948026</td>\n",
       "      <td>0.941007</td>\n",
       "      <td>0.942218</td>\n",
       "    </tr>\n",
       "    <tr>\n",
       "      <td>30500</td>\n",
       "      <td>0.089400</td>\n",
       "      <td>0.093437</td>\n",
       "      <td>0.941860</td>\n",
       "      <td>0.945469</td>\n",
       "      <td>0.941860</td>\n",
       "      <td>0.940788</td>\n",
       "    </tr>\n",
       "    <tr>\n",
       "      <td>31000</td>\n",
       "      <td>0.088100</td>\n",
       "      <td>0.093987</td>\n",
       "      <td>0.941860</td>\n",
       "      <td>0.946833</td>\n",
       "      <td>0.941860</td>\n",
       "      <td>0.939686</td>\n",
       "    </tr>\n",
       "    <tr>\n",
       "      <td>31500</td>\n",
       "      <td>0.091300</td>\n",
       "      <td>0.093486</td>\n",
       "      <td>0.941114</td>\n",
       "      <td>0.945240</td>\n",
       "      <td>0.941114</td>\n",
       "      <td>0.938777</td>\n",
       "    </tr>\n",
       "    <tr>\n",
       "      <td>32000</td>\n",
       "      <td>0.086700</td>\n",
       "      <td>0.092962</td>\n",
       "      <td>0.941380</td>\n",
       "      <td>0.944621</td>\n",
       "      <td>0.941380</td>\n",
       "      <td>0.938803</td>\n",
       "    </tr>\n",
       "    <tr>\n",
       "      <td>32500</td>\n",
       "      <td>0.089400</td>\n",
       "      <td>0.091843</td>\n",
       "      <td>0.942100</td>\n",
       "      <td>0.947093</td>\n",
       "      <td>0.942100</td>\n",
       "      <td>0.939670</td>\n",
       "    </tr>\n",
       "    <tr>\n",
       "      <td>33000</td>\n",
       "      <td>0.093200</td>\n",
       "      <td>0.090828</td>\n",
       "      <td>0.942073</td>\n",
       "      <td>0.947048</td>\n",
       "      <td>0.942073</td>\n",
       "      <td>0.939644</td>\n",
       "    </tr>\n",
       "    <tr>\n",
       "      <td>33500</td>\n",
       "      <td>0.084600</td>\n",
       "      <td>0.090826</td>\n",
       "      <td>0.942340</td>\n",
       "      <td>0.947287</td>\n",
       "      <td>0.942340</td>\n",
       "      <td>0.939912</td>\n",
       "    </tr>\n",
       "    <tr>\n",
       "      <td>34000</td>\n",
       "      <td>0.086400</td>\n",
       "      <td>0.091786</td>\n",
       "      <td>0.942260</td>\n",
       "      <td>0.947456</td>\n",
       "      <td>0.942260</td>\n",
       "      <td>0.940000</td>\n",
       "    </tr>\n",
       "    <tr>\n",
       "      <td>34500</td>\n",
       "      <td>0.084000</td>\n",
       "      <td>0.091404</td>\n",
       "      <td>0.942260</td>\n",
       "      <td>0.947426</td>\n",
       "      <td>0.942260</td>\n",
       "      <td>0.939994</td>\n",
       "    </tr>\n",
       "    <tr>\n",
       "      <td>35000</td>\n",
       "      <td>0.092100</td>\n",
       "      <td>0.090439</td>\n",
       "      <td>0.942393</td>\n",
       "      <td>0.945917</td>\n",
       "      <td>0.942393</td>\n",
       "      <td>0.941300</td>\n",
       "    </tr>\n",
       "    <tr>\n",
       "      <td>35500</td>\n",
       "      <td>0.085100</td>\n",
       "      <td>0.090445</td>\n",
       "      <td>0.942553</td>\n",
       "      <td>0.946091</td>\n",
       "      <td>0.942553</td>\n",
       "      <td>0.941464</td>\n",
       "    </tr>\n",
       "    <tr>\n",
       "      <td>36000</td>\n",
       "      <td>0.087900</td>\n",
       "      <td>0.090314</td>\n",
       "      <td>0.942553</td>\n",
       "      <td>0.946122</td>\n",
       "      <td>0.942553</td>\n",
       "      <td>0.941469</td>\n",
       "    </tr>\n",
       "  </tbody>\n",
       "</table><p>"
      ],
      "text/plain": [
       "<IPython.core.display.HTML object>"
      ]
     },
     "metadata": {},
     "output_type": "display_data"
    },
    {
     "data": {
      "text/plain": [
       "TrainOutput(global_step=36472, training_loss=0.10901750444084647, metrics={'train_runtime': 10784.5608, 'train_samples_per_second': 54.108, 'train_steps_per_second': 3.382, 'total_flos': 3.628563938574379e+16, 'train_loss': 0.10901750444084647, 'epoch': 2.0})"
      ]
     },
     "execution_count": 42,
     "metadata": {},
     "output_type": "execute_result"
    }
   ],
   "source": [
    "trainer.train()"
   ]
  },
  {
   "cell_type": "markdown",
   "id": "5d652414-a1c2-481d-b88d-72f6dae5dcb9",
   "metadata": {},
   "source": [
    "### Model Evaluation"
   ]
  },
  {
   "cell_type": "code",
   "execution_count": null,
   "id": "82e8d61f-32d2-4023-b1e0-1c28df772a89",
   "metadata": {},
   "outputs": [],
   "source": [
    "preds = trainer.predict(emotion_encoded['test'])"
   ]
  },
  {
   "cell_type": "code",
   "execution_count": 61,
   "id": "af94eeae-db5e-499d-941f-eefc706ef9e0",
   "metadata": {},
   "outputs": [],
   "source": [
    "y_pred = np.argmax(preds.predictions, axis=1)\n",
    "y_true = emotion_encoded['test'][:]['label']"
   ]
  },
  {
   "cell_type": "code",
   "execution_count": 63,
   "id": "6063330f-d431-4e45-a2ef-ec91d3cf2dee",
   "metadata": {},
   "outputs": [
    {
     "name": "stdout",
     "output_type": "stream",
     "text": [
      "              precision    recall  f1-score   support\n",
      "\n",
      "     sadness       1.00      0.96      0.98     25449\n",
      "         joy       0.92      1.00      0.96     29624\n",
      "        love       1.00      0.70      0.82      7256\n",
      "       anger       0.94      0.95      0.95     12037\n",
      "        fear       0.90      0.91      0.91     10020\n",
      "    surprise       0.77      0.91      0.83      3144\n",
      "\n",
      "    accuracy                           0.94     87530\n",
      "   macro avg       0.92      0.90      0.91     87530\n",
      "weighted avg       0.95      0.94      0.94     87530\n",
      "\n"
     ]
    }
   ],
   "source": [
    "cls_report = classification_report(y_true, y_pred, target_names=target_names)\n",
    "print(cls_report)"
   ]
  },
  {
   "cell_type": "code",
   "execution_count": 101,
   "id": "989a756c-08f1-481b-965a-19812badfc2e",
   "metadata": {},
   "outputs": [],
   "source": [
    "cm = confusion_matrix(y_true, y_pred)"
   ]
  },
  {
   "cell_type": "code",
   "execution_count": 103,
   "id": "3c4a1b87-9ab6-45b2-b1c7-ef923a4366c7",
   "metadata": {},
   "outputs": [
    {
     "data": {
      "text/html": [
       "<div>            <script src=\"https://cdnjs.cloudflare.com/ajax/libs/mathjax/2.7.5/MathJax.js?config=TeX-AMS-MML_SVG\"></script><script type=\"text/javascript\">if (window.MathJax && window.MathJax.Hub && window.MathJax.Hub.Config) {window.MathJax.Hub.Config({SVG: {font: \"STIX-Web\"}});}</script>                    <div id=\"7b7ce400-b007-4a6a-a07e-395ad54e5315\" class=\"plotly-graph-div\" style=\"height:525px; width:100%;\"></div>            <script type=\"text/javascript\">                window.PLOTLYENV=window.PLOTLYENV || {};                                if (document.getElementById(\"7b7ce400-b007-4a6a-a07e-395ad54e5315\")) {                    Plotly.newPlot(                        \"7b7ce400-b007-4a6a-a07e-395ad54e5315\",                        [{\"colorscale\":[[0.0,\"rgb(247,251,255)\"],[0.125,\"rgb(222,235,247)\"],[0.25,\"rgb(198,219,239)\"],[0.375,\"rgb(158,202,225)\"],[0.5,\"rgb(107,174,214)\"],[0.625,\"rgb(66,146,198)\"],[0.75,\"rgb(33,113,181)\"],[0.875,\"rgb(8,81,156)\"],[1.0,\"rgb(8,48,107)\"]],\"showscale\":true,\"text\":{\"dtype\":\"i2\",\"bdata\":\"E18SAAAAawLTAQYADwCJcwAAGQAGAAEAAACjCLUTAAAAAAAAJwAeAAAA0yzsAQEAFgAUAAAAGACMI1YDEgANAQAAAAAEACUL\",\"shape\":\"6, 6\"},\"texttemplate\":\"%{text}\",\"x\":[\"sadness\",\"joy\",\"love\",\"anger\",\"fear\",\"surprise\"],\"y\":[\"sadness\",\"joy\",\"love\",\"anger\",\"fear\",\"surprise\"],\"z\":{\"dtype\":\"i2\",\"bdata\":\"E18SAAAAawLTAQYADwCJcwAAGQAGAAEAAACjCLUTAAAAAAAAJwAeAAAA0yzsAQEAFgAUAAAAGACMI1YDEgANAQAAAAAEACUL\",\"shape\":\"6, 6\"},\"type\":\"heatmap\"}],                        {\"template\":{\"data\":{\"histogram2dcontour\":[{\"type\":\"histogram2dcontour\",\"colorbar\":{\"outlinewidth\":0,\"ticks\":\"\"},\"colorscale\":[[0.0,\"#0d0887\"],[0.1111111111111111,\"#46039f\"],[0.2222222222222222,\"#7201a8\"],[0.3333333333333333,\"#9c179e\"],[0.4444444444444444,\"#bd3786\"],[0.5555555555555556,\"#d8576b\"],[0.6666666666666666,\"#ed7953\"],[0.7777777777777778,\"#fb9f3a\"],[0.8888888888888888,\"#fdca26\"],[1.0,\"#f0f921\"]]}],\"choropleth\":[{\"type\":\"choropleth\",\"colorbar\":{\"outlinewidth\":0,\"ticks\":\"\"}}],\"histogram2d\":[{\"type\":\"histogram2d\",\"colorbar\":{\"outlinewidth\":0,\"ticks\":\"\"},\"colorscale\":[[0.0,\"#0d0887\"],[0.1111111111111111,\"#46039f\"],[0.2222222222222222,\"#7201a8\"],[0.3333333333333333,\"#9c179e\"],[0.4444444444444444,\"#bd3786\"],[0.5555555555555556,\"#d8576b\"],[0.6666666666666666,\"#ed7953\"],[0.7777777777777778,\"#fb9f3a\"],[0.8888888888888888,\"#fdca26\"],[1.0,\"#f0f921\"]]}],\"heatmap\":[{\"type\":\"heatmap\",\"colorbar\":{\"outlinewidth\":0,\"ticks\":\"\"},\"colorscale\":[[0.0,\"#0d0887\"],[0.1111111111111111,\"#46039f\"],[0.2222222222222222,\"#7201a8\"],[0.3333333333333333,\"#9c179e\"],[0.4444444444444444,\"#bd3786\"],[0.5555555555555556,\"#d8576b\"],[0.6666666666666666,\"#ed7953\"],[0.7777777777777778,\"#fb9f3a\"],[0.8888888888888888,\"#fdca26\"],[1.0,\"#f0f921\"]]}],\"contourcarpet\":[{\"type\":\"contourcarpet\",\"colorbar\":{\"outlinewidth\":0,\"ticks\":\"\"}}],\"contour\":[{\"type\":\"contour\",\"colorbar\":{\"outlinewidth\":0,\"ticks\":\"\"},\"colorscale\":[[0.0,\"#0d0887\"],[0.1111111111111111,\"#46039f\"],[0.2222222222222222,\"#7201a8\"],[0.3333333333333333,\"#9c179e\"],[0.4444444444444444,\"#bd3786\"],[0.5555555555555556,\"#d8576b\"],[0.6666666666666666,\"#ed7953\"],[0.7777777777777778,\"#fb9f3a\"],[0.8888888888888888,\"#fdca26\"],[1.0,\"#f0f921\"]]}],\"surface\":[{\"type\":\"surface\",\"colorbar\":{\"outlinewidth\":0,\"ticks\":\"\"},\"colorscale\":[[0.0,\"#0d0887\"],[0.1111111111111111,\"#46039f\"],[0.2222222222222222,\"#7201a8\"],[0.3333333333333333,\"#9c179e\"],[0.4444444444444444,\"#bd3786\"],[0.5555555555555556,\"#d8576b\"],[0.6666666666666666,\"#ed7953\"],[0.7777777777777778,\"#fb9f3a\"],[0.8888888888888888,\"#fdca26\"],[1.0,\"#f0f921\"]]}],\"mesh3d\":[{\"type\":\"mesh3d\",\"colorbar\":{\"outlinewidth\":0,\"ticks\":\"\"}}],\"scatter\":[{\"fillpattern\":{\"fillmode\":\"overlay\",\"size\":10,\"solidity\":0.2},\"type\":\"scatter\"}],\"parcoords\":[{\"type\":\"parcoords\",\"line\":{\"colorbar\":{\"outlinewidth\":0,\"ticks\":\"\"}}}],\"scatterpolargl\":[{\"type\":\"scatterpolargl\",\"marker\":{\"colorbar\":{\"outlinewidth\":0,\"ticks\":\"\"}}}],\"bar\":[{\"error_x\":{\"color\":\"#2a3f5f\"},\"error_y\":{\"color\":\"#2a3f5f\"},\"marker\":{\"line\":{\"color\":\"#E5ECF6\",\"width\":0.5},\"pattern\":{\"fillmode\":\"overlay\",\"size\":10,\"solidity\":0.2}},\"type\":\"bar\"}],\"scattergeo\":[{\"type\":\"scattergeo\",\"marker\":{\"colorbar\":{\"outlinewidth\":0,\"ticks\":\"\"}}}],\"scatterpolar\":[{\"type\":\"scatterpolar\",\"marker\":{\"colorbar\":{\"outlinewidth\":0,\"ticks\":\"\"}}}],\"histogram\":[{\"marker\":{\"pattern\":{\"fillmode\":\"overlay\",\"size\":10,\"solidity\":0.2}},\"type\":\"histogram\"}],\"scattergl\":[{\"type\":\"scattergl\",\"marker\":{\"colorbar\":{\"outlinewidth\":0,\"ticks\":\"\"}}}],\"scatter3d\":[{\"type\":\"scatter3d\",\"line\":{\"colorbar\":{\"outlinewidth\":0,\"ticks\":\"\"}},\"marker\":{\"colorbar\":{\"outlinewidth\":0,\"ticks\":\"\"}}}],\"scattermap\":[{\"type\":\"scattermap\",\"marker\":{\"colorbar\":{\"outlinewidth\":0,\"ticks\":\"\"}}}],\"scattermapbox\":[{\"type\":\"scattermapbox\",\"marker\":{\"colorbar\":{\"outlinewidth\":0,\"ticks\":\"\"}}}],\"scatterternary\":[{\"type\":\"scatterternary\",\"marker\":{\"colorbar\":{\"outlinewidth\":0,\"ticks\":\"\"}}}],\"scattercarpet\":[{\"type\":\"scattercarpet\",\"marker\":{\"colorbar\":{\"outlinewidth\":0,\"ticks\":\"\"}}}],\"carpet\":[{\"aaxis\":{\"endlinecolor\":\"#2a3f5f\",\"gridcolor\":\"white\",\"linecolor\":\"white\",\"minorgridcolor\":\"white\",\"startlinecolor\":\"#2a3f5f\"},\"baxis\":{\"endlinecolor\":\"#2a3f5f\",\"gridcolor\":\"white\",\"linecolor\":\"white\",\"minorgridcolor\":\"white\",\"startlinecolor\":\"#2a3f5f\"},\"type\":\"carpet\"}],\"table\":[{\"cells\":{\"fill\":{\"color\":\"#EBF0F8\"},\"line\":{\"color\":\"white\"}},\"header\":{\"fill\":{\"color\":\"#C8D4E3\"},\"line\":{\"color\":\"white\"}},\"type\":\"table\"}],\"barpolar\":[{\"marker\":{\"line\":{\"color\":\"#E5ECF6\",\"width\":0.5},\"pattern\":{\"fillmode\":\"overlay\",\"size\":10,\"solidity\":0.2}},\"type\":\"barpolar\"}],\"pie\":[{\"automargin\":true,\"type\":\"pie\"}]},\"layout\":{\"autotypenumbers\":\"strict\",\"colorway\":[\"#636efa\",\"#EF553B\",\"#00cc96\",\"#ab63fa\",\"#FFA15A\",\"#19d3f3\",\"#FF6692\",\"#B6E880\",\"#FF97FF\",\"#FECB52\"],\"font\":{\"color\":\"#2a3f5f\"},\"hovermode\":\"closest\",\"hoverlabel\":{\"align\":\"left\"},\"paper_bgcolor\":\"white\",\"plot_bgcolor\":\"#E5ECF6\",\"polar\":{\"bgcolor\":\"#E5ECF6\",\"angularaxis\":{\"gridcolor\":\"white\",\"linecolor\":\"white\",\"ticks\":\"\"},\"radialaxis\":{\"gridcolor\":\"white\",\"linecolor\":\"white\",\"ticks\":\"\"}},\"ternary\":{\"bgcolor\":\"#E5ECF6\",\"aaxis\":{\"gridcolor\":\"white\",\"linecolor\":\"white\",\"ticks\":\"\"},\"baxis\":{\"gridcolor\":\"white\",\"linecolor\":\"white\",\"ticks\":\"\"},\"caxis\":{\"gridcolor\":\"white\",\"linecolor\":\"white\",\"ticks\":\"\"}},\"coloraxis\":{\"colorbar\":{\"outlinewidth\":0,\"ticks\":\"\"}},\"colorscale\":{\"sequential\":[[0.0,\"#0d0887\"],[0.1111111111111111,\"#46039f\"],[0.2222222222222222,\"#7201a8\"],[0.3333333333333333,\"#9c179e\"],[0.4444444444444444,\"#bd3786\"],[0.5555555555555556,\"#d8576b\"],[0.6666666666666666,\"#ed7953\"],[0.7777777777777778,\"#fb9f3a\"],[0.8888888888888888,\"#fdca26\"],[1.0,\"#f0f921\"]],\"sequentialminus\":[[0.0,\"#0d0887\"],[0.1111111111111111,\"#46039f\"],[0.2222222222222222,\"#7201a8\"],[0.3333333333333333,\"#9c179e\"],[0.4444444444444444,\"#bd3786\"],[0.5555555555555556,\"#d8576b\"],[0.6666666666666666,\"#ed7953\"],[0.7777777777777778,\"#fb9f3a\"],[0.8888888888888888,\"#fdca26\"],[1.0,\"#f0f921\"]],\"diverging\":[[0,\"#8e0152\"],[0.1,\"#c51b7d\"],[0.2,\"#de77ae\"],[0.3,\"#f1b6da\"],[0.4,\"#fde0ef\"],[0.5,\"#f7f7f7\"],[0.6,\"#e6f5d0\"],[0.7,\"#b8e186\"],[0.8,\"#7fbc41\"],[0.9,\"#4d9221\"],[1,\"#276419\"]]},\"xaxis\":{\"gridcolor\":\"white\",\"linecolor\":\"white\",\"ticks\":\"\",\"title\":{\"standoff\":15},\"zerolinecolor\":\"white\",\"automargin\":true,\"zerolinewidth\":2},\"yaxis\":{\"gridcolor\":\"white\",\"linecolor\":\"white\",\"ticks\":\"\",\"title\":{\"standoff\":15},\"zerolinecolor\":\"white\",\"automargin\":true,\"zerolinewidth\":2},\"scene\":{\"xaxis\":{\"backgroundcolor\":\"#E5ECF6\",\"gridcolor\":\"white\",\"linecolor\":\"white\",\"showbackground\":true,\"ticks\":\"\",\"zerolinecolor\":\"white\",\"gridwidth\":2},\"yaxis\":{\"backgroundcolor\":\"#E5ECF6\",\"gridcolor\":\"white\",\"linecolor\":\"white\",\"showbackground\":true,\"ticks\":\"\",\"zerolinecolor\":\"white\",\"gridwidth\":2},\"zaxis\":{\"backgroundcolor\":\"#E5ECF6\",\"gridcolor\":\"white\",\"linecolor\":\"white\",\"showbackground\":true,\"ticks\":\"\",\"zerolinecolor\":\"white\",\"gridwidth\":2}},\"shapedefaults\":{\"line\":{\"color\":\"#2a3f5f\"}},\"annotationdefaults\":{\"arrowcolor\":\"#2a3f5f\",\"arrowhead\":0,\"arrowwidth\":1},\"geo\":{\"bgcolor\":\"white\",\"landcolor\":\"#E5ECF6\",\"subunitcolor\":\"white\",\"showland\":true,\"showlakes\":true,\"lakecolor\":\"white\"},\"title\":{\"x\":0.05},\"mapbox\":{\"style\":\"light\"}}},\"title\":{\"text\":\"Confusion Matrix\"},\"xaxis\":{\"title\":{\"text\":\"Predicted\"}},\"yaxis\":{\"title\":{\"text\":\"Actual\"}}},                        {\"responsive\": true}                    ).then(function(){\n",
       "                            \n",
       "var gd = document.getElementById('7b7ce400-b007-4a6a-a07e-395ad54e5315');\n",
       "var x = new MutationObserver(function (mutations, observer) {{\n",
       "        var display = window.getComputedStyle(gd).display;\n",
       "        if (!display || display === 'none') {{\n",
       "            console.log([gd, 'removed!']);\n",
       "            Plotly.purge(gd);\n",
       "            observer.disconnect();\n",
       "        }}\n",
       "}});\n",
       "\n",
       "// Listen for the removal of the full notebook cells\n",
       "var notebookContainer = gd.closest('#notebook-container');\n",
       "if (notebookContainer) {{\n",
       "    x.observe(notebookContainer, {childList: true});\n",
       "}}\n",
       "\n",
       "// Listen for the clearing of the current output cell\n",
       "var outputEl = gd.closest('.output');\n",
       "if (outputEl) {{\n",
       "    x.observe(outputEl, {childList: true});\n",
       "}}\n",
       "\n",
       "                        })                };            </script>        </div>"
      ]
     },
     "metadata": {},
     "output_type": "display_data"
    }
   ],
   "source": [
    "fig = go.Figure()\n",
    "\n",
    "fig.add_trace(\n",
    "    go.Heatmap(\n",
    "        z=cm,\n",
    "        x=target_names,\n",
    "        y=target_names,\n",
    "        colorscale='Blues',\n",
    "        text=cm,\n",
    "        texttemplate=\"%{text}\",\n",
    "        showscale=True\n",
    "    )\n",
    ")\n",
    "\n",
    "fig.update_layout(\n",
    "    title='Confusion Matrix',\n",
    "    xaxis_title='Predicted',\n",
    "    yaxis_title='Actual'\n",
    ")\n",
    "\n",
    "fig.show()"
   ]
  },
  {
   "cell_type": "markdown",
   "id": "5442fd4a-7d30-4297-ad9e-72d7f7ac3b67",
   "metadata": {},
   "source": [
    "### Save Model"
   ]
  },
  {
   "cell_type": "code",
   "execution_count": 117,
   "id": "3bd6f6e3-47a9-4f68-8105-1f995f5c5ca0",
   "metadata": {},
   "outputs": [],
   "source": [
    "trainer.save_model(\"./bert_base_uncased_emotion_classification\")"
   ]
  },
  {
   "cell_type": "markdown",
   "id": "f4e728d0-41e2-423b-b77e-2318dc6e9b7f",
   "metadata": {},
   "source": [
    "### Load Fine-Tuned Model"
   ]
  },
  {
   "cell_type": "code",
   "execution_count": 68,
   "id": "0a150615-4bf9-427d-9181-75270646fad8",
   "metadata": {},
   "outputs": [],
   "source": [
    "model_path = \"./bert_base_uncased_emotion_classification\"\n",
    "tokenizer_path = \"./bert_base_uncased_emotion_classification\""
   ]
  },
  {
   "cell_type": "code",
   "execution_count": 69,
   "id": "54fff33d-2f3e-45df-8547-ba8d2599df0d",
   "metadata": {},
   "outputs": [],
   "source": [
    "model = AutoModelForSequenceClassification.from_pretrained(model_path)\n",
    "tokenizer = AutoTokenizer.from_pretrained(tokenizer_path)"
   ]
  },
  {
   "cell_type": "code",
   "execution_count": 70,
   "id": "9164b3ce-dbf6-4493-b07d-6471e25c0ac3",
   "metadata": {},
   "outputs": [
    {
     "data": {
      "text/plain": [
       "BertTokenizerFast(name_or_path='./bert_base_uncased_emotion_classification', vocab_size=30522, model_max_length=512, is_fast=True, padding_side='right', truncation_side='right', special_tokens={'unk_token': '[UNK]', 'sep_token': '[SEP]', 'pad_token': '[PAD]', 'cls_token': '[CLS]', 'mask_token': '[MASK]'}, clean_up_tokenization_spaces=False, added_tokens_decoder={\n",
       "\t0: AddedToken(\"[PAD]\", rstrip=False, lstrip=False, single_word=False, normalized=False, special=True),\n",
       "\t100: AddedToken(\"[UNK]\", rstrip=False, lstrip=False, single_word=False, normalized=False, special=True),\n",
       "\t101: AddedToken(\"[CLS]\", rstrip=False, lstrip=False, single_word=False, normalized=False, special=True),\n",
       "\t102: AddedToken(\"[SEP]\", rstrip=False, lstrip=False, single_word=False, normalized=False, special=True),\n",
       "\t103: AddedToken(\"[MASK]\", rstrip=False, lstrip=False, single_word=False, normalized=False, special=True),\n",
       "}\n",
       ")"
      ]
     },
     "execution_count": 70,
     "metadata": {},
     "output_type": "execute_result"
    }
   ],
   "source": [
    "tokenizer"
   ]
  },
  {
   "cell_type": "code",
   "execution_count": 71,
   "id": "f9f854ef-157f-4865-b73d-724ac75da07c",
   "metadata": {},
   "outputs": [
    {
     "data": {
      "text/plain": [
       "BertConfig {\n",
       "  \"architectures\": [\n",
       "    \"BertForSequenceClassification\"\n",
       "  ],\n",
       "  \"attention_probs_dropout_prob\": 0.1,\n",
       "  \"classifier_dropout\": null,\n",
       "  \"gradient_checkpointing\": false,\n",
       "  \"hidden_act\": \"gelu\",\n",
       "  \"hidden_dropout_prob\": 0.1,\n",
       "  \"hidden_size\": 768,\n",
       "  \"id2label\": {\n",
       "    \"0\": \"sadness\",\n",
       "    \"1\": \"joy\",\n",
       "    \"2\": \"love\",\n",
       "    \"3\": \"anger\",\n",
       "    \"4\": \"fear\",\n",
       "    \"5\": \"surprise\"\n",
       "  },\n",
       "  \"initializer_range\": 0.02,\n",
       "  \"intermediate_size\": 3072,\n",
       "  \"label2id\": {\n",
       "    \"anger\": 3,\n",
       "    \"fear\": 4,\n",
       "    \"joy\": 1,\n",
       "    \"love\": 2,\n",
       "    \"sadness\": 0,\n",
       "    \"surprise\": 5\n",
       "  },\n",
       "  \"layer_norm_eps\": 1e-12,\n",
       "  \"max_position_embeddings\": 512,\n",
       "  \"model_type\": \"bert\",\n",
       "  \"num_attention_heads\": 12,\n",
       "  \"num_hidden_layers\": 12,\n",
       "  \"pad_token_id\": 0,\n",
       "  \"position_embedding_type\": \"absolute\",\n",
       "  \"problem_type\": \"single_label_classification\",\n",
       "  \"torch_dtype\": \"float32\",\n",
       "  \"transformers_version\": \"4.52.4\",\n",
       "  \"type_vocab_size\": 2,\n",
       "  \"use_cache\": true,\n",
       "  \"vocab_size\": 30522\n",
       "}"
      ]
     },
     "execution_count": 71,
     "metadata": {},
     "output_type": "execute_result"
    }
   ],
   "source": [
    "model.config"
   ]
  },
  {
   "cell_type": "code",
   "execution_count": 72,
   "id": "6a34edb7-36a7-46ec-b1a6-cade695ecd84",
   "metadata": {},
   "outputs": [
    {
     "name": "stderr",
     "output_type": "stream",
     "text": [
      "Device set to use cuda:0\n"
     ]
    }
   ],
   "source": [
    "classifier = pipeline('text-classification', \n",
    "                      model=model, \n",
    "                      tokenizer=tokenizer)"
   ]
  },
  {
   "cell_type": "code",
   "execution_count": 77,
   "id": "3114ca23-c1db-466f-8e82-b8fb16e12712",
   "metadata": {},
   "outputs": [
    {
     "data": {
      "text/plain": [
       "[{'label': 'joy', 'score': 0.6743651032447815}]"
      ]
     },
     "execution_count": 77,
     "metadata": {},
     "output_type": "execute_result"
    }
   ],
   "source": [
    "classifier(\"I love reading books!\")"
   ]
  },
  {
   "cell_type": "code",
   "execution_count": 78,
   "id": "84a381f5-8d73-472a-b72d-249389b8f685",
   "metadata": {},
   "outputs": [
    {
     "data": {
      "text/plain": [
       "{0: 'sadness', 1: 'joy', 2: 'love', 3: 'anger', 4: 'fear', 5: 'surprise'}"
      ]
     },
     "execution_count": 78,
     "metadata": {},
     "output_type": "execute_result"
    }
   ],
   "source": [
    "model.config.id2label"
   ]
  },
  {
   "cell_type": "code",
   "execution_count": 79,
   "id": "bb15195f-a0d0-401c-93a8-7ecfd82271b7",
   "metadata": {},
   "outputs": [],
   "source": [
    "# or use function\n",
    "def prediction(input_text):\n",
    "    encoded_text = tokenizer(input_text, return_tensors=\"pt\").to(device)\n",
    "    with torch.inference_mode():\n",
    "        output = model(**encoded_text)\n",
    "        logits = output.logits\n",
    "        pred_id = torch.argmax(logits, dim=1).item()\n",
    "    return model.config.id2label[pred_id]    "
   ]
  },
  {
   "cell_type": "code",
   "execution_count": 80,
   "id": "4cec3f67-fe87-4983-b822-0f5e479ae763",
   "metadata": {},
   "outputs": [
    {
     "data": {
      "text/plain": [
       "'joy'"
      ]
     },
     "execution_count": 80,
     "metadata": {},
     "output_type": "execute_result"
    }
   ],
   "source": [
    "prediction(\"I love reading books!\")"
   ]
  },
  {
   "cell_type": "code",
   "execution_count": null,
   "id": "32e6c5ae-cb3c-408c-9ebb-d0a0773f5bd2",
   "metadata": {},
   "outputs": [],
   "source": []
  },
  {
   "cell_type": "code",
   "execution_count": null,
   "id": "6515c69b-4f2c-4259-b170-37e4ace8349c",
   "metadata": {},
   "outputs": [],
   "source": []
  },
  {
   "cell_type": "code",
   "execution_count": null,
   "id": "901c2cb5-892a-4785-88b7-8e43227484fb",
   "metadata": {},
   "outputs": [],
   "source": []
  }
 ],
 "metadata": {
  "kernelspec": {
   "display_name": "Python 3 (ipykernel)",
   "language": "python",
   "name": "python3"
  },
  "language_info": {
   "codemirror_mode": {
    "name": "ipython",
    "version": 3
   },
   "file_extension": ".py",
   "mimetype": "text/x-python",
   "name": "python",
   "nbconvert_exporter": "python",
   "pygments_lexer": "ipython3",
   "version": "3.11.0"
  }
 },
 "nbformat": 4,
 "nbformat_minor": 5
}
